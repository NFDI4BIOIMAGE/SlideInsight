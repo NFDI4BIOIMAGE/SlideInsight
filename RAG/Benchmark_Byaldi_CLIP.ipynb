{
 "cells": [
  {
   "cell_type": "markdown",
   "id": "1f78a37c-89e3-4548-9bcf-2f65f8f6304e",
   "metadata": {},
   "source": [
    "## Benchmarking Results for the multimodal RAG Approach by comparing Byaldi and CLIP Approach"
   ]
  },
  {
   "cell_type": "code",
   "execution_count": 6,
   "id": "78186d86-1e0b-46fa-9a5e-13dbc086ae7e",
   "metadata": {},
   "outputs": [],
   "source": [
    "from Create_Benchmark_Doc import search_via_byaldi, search_via_CLIP_similarity, generate_comparison_pdf\n",
    "from byaldi import RAGMultiModalModel\n",
    "import os\n",
    "import sys\n",
    "from transformers import CLIPProcessor, CLIPModel"
   ]
  },
  {
   "cell_type": "code",
   "execution_count": 2,
   "id": "99d2f923-dd7e-43d3-8f14-75387c318420",
   "metadata": {},
   "outputs": [],
   "source": [
    "text_query = \"What are the different stages of a data life cycle?\"\n",
    "k = 2\n",
    "\n",
    "# Add parent directory to be able to import modules / files\n",
    "parent_dir = os.path.abspath(os.path.join(os.getcwd(), \"..\"))\n",
    "if parent_dir not in sys.path:\n",
    "    sys.path.insert(0, parent_dir)"
   ]
  },
  {
   "cell_type": "markdown",
   "id": "95b8c591-563e-4b02-86ae-5fe7bf878d24",
   "metadata": {},
   "source": [
    "### Define model instances"
   ]
  },
  {
   "cell_type": "code",
   "execution_count": 3,
   "id": "3db6b4b8-ca6d-4dbc-9d76-e02e3fb666d9",
   "metadata": {},
   "outputs": [
    {
     "name": "stdout",
     "output_type": "stream",
     "text": [
      "Verbosity is set to 1 (active). Pass verbose=0 to make quieter.\n"
     ]
    },
    {
     "data": {
      "application/vnd.jupyter.widget-view+json": {
       "model_id": "0b4d3e809f6346fdbee7fb43ff031df0",
       "version_major": 2,
       "version_minor": 0
      },
      "text/plain": [
       "Fetching 2 files:   0%|          | 0/2 [00:00<?, ?it/s]"
      ]
     },
     "metadata": {},
     "output_type": "display_data"
    },
    {
     "data": {
      "application/vnd.jupyter.widget-view+json": {
       "model_id": "03772e1ef43e4d528850299c02a59deb",
       "version_major": 2,
       "version_minor": 0
      },
      "text/plain": [
       "Loading checkpoint shards:   0%|          | 0/2 [00:00<?, ?it/s]"
      ]
     },
     "metadata": {},
     "output_type": "display_data"
    },
    {
     "name": "stdout",
     "output_type": "stream",
     "text": [
      "You are using in-memory collection. This means every image is stored in memory.\n",
      "You might want to rethink this if you have a large collection!\n",
      "Loaded 2534 images from 6 JSON files.\n"
     ]
    }
   ],
   "source": [
    "# Deifne path to the index\n",
    "index_path = os.path.join(parent_dir, \".byaldi\", \"pdf_index\")\n",
    "\n",
    "# Load index\n",
    "docs_retrieval_model = RAGMultiModalModel.from_index(index_path, device='cpu')\n",
    "\n",
    "# Load CLIP\n",
    "clip_model = CLIPModel.from_pretrained(\"openai/clip-vit-base-patch32\")\n",
    "clip_processor = CLIPProcessor.from_pretrained(\"openai/clip-vit-base-patch32\")"
   ]
  },
  {
   "cell_type": "markdown",
   "id": "54674260-2de2-4d14-b5c1-3f8e1adac9d2",
   "metadata": {},
   "source": [
    "## Workflow with multiple queries:"
   ]
  },
  {
   "cell_type": "code",
   "execution_count": 4,
   "id": "afee938e-a211-4fa0-8923-51c4bf7ed4b0",
   "metadata": {},
   "outputs": [],
   "source": [
    "# Search Queries\n",
    "queries = [\n",
    "    \"How is AI used in bioimage analysis?\",\n",
    "    \"What are the benefits of using machine learning in microscopy?\",\n",
    "    \"What is bioimage analysis?\",\n",
    "    \"What tools are commonly used for image analysis in bioimaging?\",\n",
    "    \"What are different segmentation methods used for microscopy data analysis?\",\n",
    "    \"What’s the difference between bioinformatics and bioimage analysis?\",\n",
    "    \"How can I make my microscopy data FAIR?\",\n",
    "    \"What are the FAIR principles in data management?\",\n",
    "    \"What is Fiji and how is it used?\",\n",
    "    \"What is Napari and when should I use it?\",\n",
    "    \"How does OMERO help with data storage and sharing?\",\n",
    "    \"What are different license types that can be used for sharing data?\",\n",
    "    \"What does open science mean for data sharing?\",\n",
    "    \"Why is open source software important in scientific research?\",\n",
    "    \"How can I use Python for bioimage analysis?\",\n",
    "    \"What Python libraries are helpful for image processing?\",\n",
    "    \"How can I ensure reproducibility in my image analysis pipeline?\",\n",
    "    \"What are common steps in a reproducible bioimage analysis workflow?\",\n",
    "    \"What are the key parts of research data management?\",\n",
    "    \"How can I share my microscopy data with others?\",\n",
    "]"
   ]
  },
  {
   "cell_type": "markdown",
   "id": "b20f532c-8d02-4add-9ebc-86923f4c4e7d",
   "metadata": {},
   "source": [
    "## Looping over all queries to get single PDFs\n",
    "Due to memory issues, that can't be solved, all PDFs are first saved individually and then merged afterwards."
   ]
  },
  {
   "cell_type": "code",
   "execution_count": 7,
   "id": "c8ee9213-fa08-480b-bdb0-a71ecdb84037",
   "metadata": {},
   "outputs": [
    {
     "name": "stdout",
     "output_type": "stream",
     "text": [
      "Processing query: How is AI used in bioimage analysis?\n",
      "Processing the Byaldi approach...\n",
      "Processing the CLIP approach...\n",
      "Plotting...\n"
     ]
    }
   ],
   "source": [
    "for i, query in enumerate(queries):\n",
    "    generate_comparison_pdf([query], docs_retrieval_model, clip_model, clip_processor, k_results=10, output_path=f\"benchmark_query_{i+1}.pdf\")"
   ]
  },
  {
   "cell_type": "markdown",
   "id": "b980291a-ee63-4583-b067-d577e2e501b8",
   "metadata": {},
   "source": [
    "### Merge all PDFs together"
   ]
  },
  {
   "cell_type": "code",
   "execution_count": 8,
   "id": "05f72e79-e11f-46ac-b8a8-e4717c9aff06",
   "metadata": {},
   "outputs": [],
   "source": [
    "from PyPDF2 import PdfMerger\n",
    "\n",
    "pdfs = [f\"benchmark_query_{i+1}.pdf\" for i in range(len(queries))]\n",
    "merger = PdfMerger()"
   ]
  },
  {
   "cell_type": "code",
   "execution_count": 9,
   "id": "5640718c-e57d-4ec4-b55a-486d5cdef8f4",
   "metadata": {},
   "outputs": [],
   "source": [
    "for pdf in pdfs:\n",
    "    merger.append(pdf)\n",
    "\n",
    "merger.write(\"benchmark_slides.pdf\")\n",
    "merger.close()"
   ]
  },
  {
   "cell_type": "markdown",
   "id": "04f5570c-c1d4-44d6-9bc3-f97ebdc5b6c7",
   "metadata": {},
   "source": [
    "# Evaluate the Benchmark Results\n",
    "To evaluate the results, four members of our team ranked the 20 benchmark trials regarding whether Approach A (Byaldi) or Approach B (CLIP) performed best. "
   ]
  },
  {
   "cell_type": "code",
   "execution_count": 20,
   "id": "8e0e244a-9206-4b0a-89f9-4715fdc1c16b",
   "metadata": {},
   "outputs": [
    {
     "name": "stdout",
     "output_type": "stream",
     "text": [
      "  Approach    1    2    3    4    5    6    7    8    9  ...   11   12   13  \\\n",
      "0       A   NaN  1.0  NaN  3.0  3.0  1.0  4.0  2.0  3.0  ...  NaN  4.0  4.0   \n",
      "1        B  3.0  3.0  3.0  1.0  NaN  NaN  NaN  1.0  NaN  ...  4.0  NaN  NaN   \n",
      "2     Both  NaN  NaN  1.0  NaN  1.0  NaN  NaN  1.0  1.0  ...  NaN  NaN  NaN   \n",
      "3  Neither  1.0  NaN  NaN  NaN  NaN  3.0  NaN  NaN  NaN  ...  NaN  NaN  NaN   \n",
      "\n",
      "    14   15   16   17   18   19   20  \n",
      "0  2.0  4.0  2.0  3.0  NaN  1.0  4.0  \n",
      "1  NaN  NaN  2.0  1.0  3.0  NaN  NaN  \n",
      "2  2.0  NaN  NaN  NaN  1.0  3.0  NaN  \n",
      "3  NaN  NaN  NaN  NaN  NaN  NaN  NaN  \n",
      "\n",
      "[4 rows x 21 columns]\n"
     ]
    }
   ],
   "source": [
    "import pandas as pd \n",
    "import matplotlib.pyplot as plt\n",
    "\n",
    "#Load the .csv file with the results\n",
    "df = pd.read_csv('Benchmark_Byaldi_CLIP_result.csv')\n",
    "print(df.head())"
   ]
  },
  {
   "cell_type": "code",
   "execution_count": 21,
   "id": "55f0e5b2-42fb-424e-85b1-9b3f8bfb4ea6",
   "metadata": {},
   "outputs": [
    {
     "data": {
      "text/html": [
       "<div>\n",
       "<style scoped>\n",
       "    .dataframe tbody tr th:only-of-type {\n",
       "        vertical-align: middle;\n",
       "    }\n",
       "\n",
       "    .dataframe tbody tr th {\n",
       "        vertical-align: top;\n",
       "    }\n",
       "\n",
       "    .dataframe thead th {\n",
       "        text-align: right;\n",
       "    }\n",
       "</style>\n",
       "<table border=\"1\" class=\"dataframe\">\n",
       "  <thead>\n",
       "    <tr style=\"text-align: right;\">\n",
       "      <th></th>\n",
       "      <th>Approach</th>\n",
       "      <th>1</th>\n",
       "      <th>2</th>\n",
       "      <th>3</th>\n",
       "      <th>4</th>\n",
       "      <th>5</th>\n",
       "      <th>6</th>\n",
       "      <th>7</th>\n",
       "      <th>8</th>\n",
       "      <th>9</th>\n",
       "      <th>...</th>\n",
       "      <th>11</th>\n",
       "      <th>12</th>\n",
       "      <th>13</th>\n",
       "      <th>14</th>\n",
       "      <th>15</th>\n",
       "      <th>16</th>\n",
       "      <th>17</th>\n",
       "      <th>18</th>\n",
       "      <th>19</th>\n",
       "      <th>20</th>\n",
       "    </tr>\n",
       "  </thead>\n",
       "  <tbody>\n",
       "    <tr>\n",
       "      <th>0</th>\n",
       "      <td>A</td>\n",
       "      <td>0.0</td>\n",
       "      <td>1.0</td>\n",
       "      <td>0.0</td>\n",
       "      <td>3.0</td>\n",
       "      <td>3.0</td>\n",
       "      <td>1.0</td>\n",
       "      <td>4.0</td>\n",
       "      <td>2.0</td>\n",
       "      <td>3.0</td>\n",
       "      <td>...</td>\n",
       "      <td>0.0</td>\n",
       "      <td>4.0</td>\n",
       "      <td>4.0</td>\n",
       "      <td>2.0</td>\n",
       "      <td>4.0</td>\n",
       "      <td>2.0</td>\n",
       "      <td>3.0</td>\n",
       "      <td>0.0</td>\n",
       "      <td>1.0</td>\n",
       "      <td>4.0</td>\n",
       "    </tr>\n",
       "    <tr>\n",
       "      <th>1</th>\n",
       "      <td>B</td>\n",
       "      <td>3.0</td>\n",
       "      <td>3.0</td>\n",
       "      <td>3.0</td>\n",
       "      <td>1.0</td>\n",
       "      <td>0.0</td>\n",
       "      <td>0.0</td>\n",
       "      <td>0.0</td>\n",
       "      <td>1.0</td>\n",
       "      <td>0.0</td>\n",
       "      <td>...</td>\n",
       "      <td>4.0</td>\n",
       "      <td>0.0</td>\n",
       "      <td>0.0</td>\n",
       "      <td>0.0</td>\n",
       "      <td>0.0</td>\n",
       "      <td>2.0</td>\n",
       "      <td>1.0</td>\n",
       "      <td>3.0</td>\n",
       "      <td>0.0</td>\n",
       "      <td>0.0</td>\n",
       "    </tr>\n",
       "    <tr>\n",
       "      <th>2</th>\n",
       "      <td>Both</td>\n",
       "      <td>0.0</td>\n",
       "      <td>0.0</td>\n",
       "      <td>1.0</td>\n",
       "      <td>0.0</td>\n",
       "      <td>1.0</td>\n",
       "      <td>0.0</td>\n",
       "      <td>0.0</td>\n",
       "      <td>1.0</td>\n",
       "      <td>1.0</td>\n",
       "      <td>...</td>\n",
       "      <td>0.0</td>\n",
       "      <td>0.0</td>\n",
       "      <td>0.0</td>\n",
       "      <td>2.0</td>\n",
       "      <td>0.0</td>\n",
       "      <td>0.0</td>\n",
       "      <td>0.0</td>\n",
       "      <td>1.0</td>\n",
       "      <td>3.0</td>\n",
       "      <td>0.0</td>\n",
       "    </tr>\n",
       "    <tr>\n",
       "      <th>3</th>\n",
       "      <td>Neither</td>\n",
       "      <td>1.0</td>\n",
       "      <td>0.0</td>\n",
       "      <td>0.0</td>\n",
       "      <td>0.0</td>\n",
       "      <td>0.0</td>\n",
       "      <td>3.0</td>\n",
       "      <td>0.0</td>\n",
       "      <td>0.0</td>\n",
       "      <td>0.0</td>\n",
       "      <td>...</td>\n",
       "      <td>0.0</td>\n",
       "      <td>0.0</td>\n",
       "      <td>0.0</td>\n",
       "      <td>0.0</td>\n",
       "      <td>0.0</td>\n",
       "      <td>0.0</td>\n",
       "      <td>0.0</td>\n",
       "      <td>0.0</td>\n",
       "      <td>0.0</td>\n",
       "      <td>0.0</td>\n",
       "    </tr>\n",
       "  </tbody>\n",
       "</table>\n",
       "<p>4 rows × 21 columns</p>\n",
       "</div>"
      ],
      "text/plain": [
       "  Approach    1    2    3    4    5    6    7    8    9  ...   11   12   13  \\\n",
       "0       A   0.0  1.0  0.0  3.0  3.0  1.0  4.0  2.0  3.0  ...  0.0  4.0  4.0   \n",
       "1        B  3.0  3.0  3.0  1.0  0.0  0.0  0.0  1.0  0.0  ...  4.0  0.0  0.0   \n",
       "2     Both  0.0  0.0  1.0  0.0  1.0  0.0  0.0  1.0  1.0  ...  0.0  0.0  0.0   \n",
       "3  Neither  1.0  0.0  0.0  0.0  0.0  3.0  0.0  0.0  0.0  ...  0.0  0.0  0.0   \n",
       "\n",
       "    14   15   16   17   18   19   20  \n",
       "0  2.0  4.0  2.0  3.0  0.0  1.0  4.0  \n",
       "1  0.0  0.0  2.0  1.0  3.0  0.0  0.0  \n",
       "2  2.0  0.0  0.0  0.0  1.0  3.0  0.0  \n",
       "3  0.0  0.0  0.0  0.0  0.0  0.0  0.0  \n",
       "\n",
       "[4 rows x 21 columns]"
      ]
     },
     "execution_count": 21,
     "metadata": {},
     "output_type": "execute_result"
    }
   ],
   "source": [
    "# Fill NaNs with 0 to avoid problems during summation\n",
    "df = df.fillna(0)\n",
    "df"
   ]
  },
  {
   "cell_type": "code",
   "execution_count": 22,
   "id": "f028874a-1225-48f8-94f2-5155ccaa2418",
   "metadata": {},
   "outputs": [
    {
     "data": {
      "text/html": [
       "<div>\n",
       "<style scoped>\n",
       "    .dataframe tbody tr th:only-of-type {\n",
       "        vertical-align: middle;\n",
       "    }\n",
       "\n",
       "    .dataframe tbody tr th {\n",
       "        vertical-align: top;\n",
       "    }\n",
       "\n",
       "    .dataframe thead th {\n",
       "        text-align: right;\n",
       "    }\n",
       "</style>\n",
       "<table border=\"1\" class=\"dataframe\">\n",
       "  <thead>\n",
       "    <tr style=\"text-align: right;\">\n",
       "      <th></th>\n",
       "      <th>Approach</th>\n",
       "      <th>1</th>\n",
       "      <th>2</th>\n",
       "      <th>3</th>\n",
       "      <th>4</th>\n",
       "      <th>5</th>\n",
       "      <th>6</th>\n",
       "      <th>7</th>\n",
       "      <th>8</th>\n",
       "      <th>9</th>\n",
       "      <th>...</th>\n",
       "      <th>12</th>\n",
       "      <th>13</th>\n",
       "      <th>14</th>\n",
       "      <th>15</th>\n",
       "      <th>16</th>\n",
       "      <th>17</th>\n",
       "      <th>18</th>\n",
       "      <th>19</th>\n",
       "      <th>20</th>\n",
       "      <th>Sum</th>\n",
       "    </tr>\n",
       "  </thead>\n",
       "  <tbody>\n",
       "    <tr>\n",
       "      <th>0</th>\n",
       "      <td>A</td>\n",
       "      <td>0.0</td>\n",
       "      <td>1.0</td>\n",
       "      <td>0.0</td>\n",
       "      <td>3.0</td>\n",
       "      <td>3.0</td>\n",
       "      <td>1.0</td>\n",
       "      <td>4.0</td>\n",
       "      <td>2.0</td>\n",
       "      <td>3.0</td>\n",
       "      <td>...</td>\n",
       "      <td>4.0</td>\n",
       "      <td>4.0</td>\n",
       "      <td>2.0</td>\n",
       "      <td>4.0</td>\n",
       "      <td>2.0</td>\n",
       "      <td>3.0</td>\n",
       "      <td>0.0</td>\n",
       "      <td>1.0</td>\n",
       "      <td>4.0</td>\n",
       "      <td>44.0</td>\n",
       "    </tr>\n",
       "    <tr>\n",
       "      <th>1</th>\n",
       "      <td>B</td>\n",
       "      <td>3.0</td>\n",
       "      <td>3.0</td>\n",
       "      <td>3.0</td>\n",
       "      <td>1.0</td>\n",
       "      <td>0.0</td>\n",
       "      <td>0.0</td>\n",
       "      <td>0.0</td>\n",
       "      <td>1.0</td>\n",
       "      <td>0.0</td>\n",
       "      <td>...</td>\n",
       "      <td>0.0</td>\n",
       "      <td>0.0</td>\n",
       "      <td>0.0</td>\n",
       "      <td>0.0</td>\n",
       "      <td>2.0</td>\n",
       "      <td>1.0</td>\n",
       "      <td>3.0</td>\n",
       "      <td>0.0</td>\n",
       "      <td>0.0</td>\n",
       "      <td>21.0</td>\n",
       "    </tr>\n",
       "    <tr>\n",
       "      <th>2</th>\n",
       "      <td>Both</td>\n",
       "      <td>0.0</td>\n",
       "      <td>0.0</td>\n",
       "      <td>1.0</td>\n",
       "      <td>0.0</td>\n",
       "      <td>1.0</td>\n",
       "      <td>0.0</td>\n",
       "      <td>0.0</td>\n",
       "      <td>1.0</td>\n",
       "      <td>1.0</td>\n",
       "      <td>...</td>\n",
       "      <td>0.0</td>\n",
       "      <td>0.0</td>\n",
       "      <td>2.0</td>\n",
       "      <td>0.0</td>\n",
       "      <td>0.0</td>\n",
       "      <td>0.0</td>\n",
       "      <td>1.0</td>\n",
       "      <td>3.0</td>\n",
       "      <td>0.0</td>\n",
       "      <td>11.0</td>\n",
       "    </tr>\n",
       "    <tr>\n",
       "      <th>3</th>\n",
       "      <td>Neither</td>\n",
       "      <td>1.0</td>\n",
       "      <td>0.0</td>\n",
       "      <td>0.0</td>\n",
       "      <td>0.0</td>\n",
       "      <td>0.0</td>\n",
       "      <td>3.0</td>\n",
       "      <td>0.0</td>\n",
       "      <td>0.0</td>\n",
       "      <td>0.0</td>\n",
       "      <td>...</td>\n",
       "      <td>0.0</td>\n",
       "      <td>0.0</td>\n",
       "      <td>0.0</td>\n",
       "      <td>0.0</td>\n",
       "      <td>0.0</td>\n",
       "      <td>0.0</td>\n",
       "      <td>0.0</td>\n",
       "      <td>0.0</td>\n",
       "      <td>0.0</td>\n",
       "      <td>4.0</td>\n",
       "    </tr>\n",
       "  </tbody>\n",
       "</table>\n",
       "<p>4 rows × 22 columns</p>\n",
       "</div>"
      ],
      "text/plain": [
       "  Approach    1    2    3    4    5    6    7    8    9  ...   12   13   14  \\\n",
       "0       A   0.0  1.0  0.0  3.0  3.0  1.0  4.0  2.0  3.0  ...  4.0  4.0  2.0   \n",
       "1        B  3.0  3.0  3.0  1.0  0.0  0.0  0.0  1.0  0.0  ...  0.0  0.0  0.0   \n",
       "2     Both  0.0  0.0  1.0  0.0  1.0  0.0  0.0  1.0  1.0  ...  0.0  0.0  2.0   \n",
       "3  Neither  1.0  0.0  0.0  0.0  0.0  3.0  0.0  0.0  0.0  ...  0.0  0.0  0.0   \n",
       "\n",
       "    15   16   17   18   19   20   Sum  \n",
       "0  4.0  2.0  3.0  0.0  1.0  4.0  44.0  \n",
       "1  0.0  2.0  1.0  3.0  0.0  0.0  21.0  \n",
       "2  0.0  0.0  0.0  1.0  3.0  0.0  11.0  \n",
       "3  0.0  0.0  0.0  0.0  0.0  0.0   4.0  \n",
       "\n",
       "[4 rows x 22 columns]"
      ]
     },
     "execution_count": 22,
     "metadata": {},
     "output_type": "execute_result"
    }
   ],
   "source": [
    "# Sum over all scores for each Approach\n",
    "df['Sum'] = df.iloc[:, 1:].apply(lambda row: row.dropna().sum(), axis=1)\n",
    "df"
   ]
  },
  {
   "cell_type": "markdown",
   "id": "ee2d5e18-89ac-443b-a18d-83ae9932d4aa",
   "metadata": {},
   "source": [
    "## Plot the total scores for each approach\n",
    "\n",
    "By looking at the plot one can clearly see, that approach A has the overall best result in this Benchmark.\n",
    "But still there is also a quite remarkable amount of cases, in which none of the approaches was suitable."
   ]
  },
  {
   "cell_type": "code",
   "execution_count": 23,
   "id": "8ed7d89b-4ffd-47e5-8746-97f7a241a6c2",
   "metadata": {},
   "outputs": [
    {
     "data": {
      "image/png": "[encoded data removed]",
      "text/plain": [
       "<Figure size 800x600 with 1 Axes>"
      ]
     },
     "metadata": {},
     "output_type": "display_data"
    }
   ],
   "source": [
    "# Group by 'Approach' and sum the total scores\n",
    "approach_scores = df.groupby('Approach')['Sum'].sum().reset_index()\n",
    "\n",
    "# Plot the bar plot\n",
    "plt.figure(figsize=(8, 6))\n",
    "plt.bar(approach_scores['Approach'], approach_scores['Sum'], color='skyblue')\n",
    "plt.xlabel('Approach')\n",
    "plt.ylabel('Total Score')\n",
    "plt.title('Comparison of Approaches A (Byaldi) and B (CLIP) by Total Score')\n",
    "plt.show()"
   ]
  }
 ],
 "metadata": {
  "kernelspec": {
   "display_name": "Python 3 (ipykernel)",
   "language": "python",
   "name": "python3"
  },
  "language_info": {
   "codemirror_mode": {
    "name": "ipython",
    "version": 3
   },
   "file_extension": ".py",
   "mimetype": "text/x-python",
   "name": "python",
   "nbconvert_exporter": "python",
   "pygments_lexer": "ipython3",
   "version": "3.10.12"
  }
 },
 "nbformat": 4,
 "nbformat_minor": 5
}
