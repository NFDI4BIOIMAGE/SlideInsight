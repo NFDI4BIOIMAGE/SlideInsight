{
 "cells": [
  {
   "cell_type": "markdown",
   "id": "92ecf071-b1a7-4746-a32d-700fe884dec4",
   "metadata": {},
   "source": [
    "# Creating Exam Questions\n",
    "In this Notebook, a pipeline is established to create a set of Exam Questions based on presentation slide decks.\n",
    "\n",
    "To reproduce the code, you need an API Key for the LLM services from ScaDS.AI."
   ]
  },
  {
   "cell_type": "code",
   "execution_count": 17,
   "id": "13a915fc-8181-4866-9d59-33aecc96d921",
   "metadata": {},
   "outputs": [
    {
     "name": "stdout",
     "output_type": "stream",
     "text": [
      "Qwen/Qwen2-VL-7B-Instruct\n"
     ]
    }
   ],
   "source": [
    "from openai import OpenAI\n",
    "import os\n",
    "from caching import get_zenodo_ids_from_yaml, get_zenodo_pdfs, download_pdf\n",
    "import requests\n",
    "import pdfplumber\n",
    "from pdf2image import convert_from_bytes\n",
    "import io\n",
    "import base64\n",
    "\n",
    "my_api_key = os.getenv(\"SCADS_KEY\")\n",
    "token_limit = 131000  # Token limit for the prompt\n",
    "\n",
    "# OpenAI client\n",
    "openai_client = OpenAI(base_url=\"https://llm.scads.ai/v1\", api_key=my_api_key)\n",
    "\n",
    "# Find model with \"llama\" in name\n",
    "for model in openai_client.models.list().data:\n",
    "    model_name = model.id\n",
    "    if \"Qwen/\" in model_name:\n",
    "        print(model_name)\n",
    "        break\n"
   ]
  },
  {
   "cell_type": "markdown",
   "id": "063286b5-1bfc-441d-9bc3-970e5583b6a9",
   "metadata": {},
   "source": [
    "## Before starting, all Zenodo Record, i.e. Slide Decks, are extracted from the training material database in order to choose a presentation used for generating the questions"
   ]
  },
  {
   "cell_type": "code",
   "execution_count": 16,
   "id": "578e1a5f-706f-410c-a920-1cd827cffabe",
   "metadata": {},
   "outputs": [
    {
     "name": "stdout",
     "output_type": "stream",
     "text": [
      "File downloaded successfully as nfdi4bioimage.yml\n",
      "Found 38 Zenodo records: ['10008464', '10008465', '10083555', '10654775', '10679054', '10687658', '10793699', '10815329', '10816895', '10886749', '10939519', '10942559', '10970869', '10972692', '10990107', '11031746', '11066250', '11107798', '11265038', '11396199', '11472148', '11474407', '11548617', '12623730', '3778431', '4317149', '4328911', '4330625', '4334697', '4461261', '4630788', '4748510', '4748534', '4778265', '8323588', '8329305', '8329306', '8414318']\n"
     ]
    }
   ],
   "source": [
    "file_url = \"https://raw.githubusercontent.com/NFDI4BIOIMAGE/training/main/resources/nfdi4bioimage.yml\"\n",
    "yaml_file = \"nfdi4bioimage.yml\" \n",
    "response = requests.get(file_url)\n",
    "\n",
    "# Download the current Training Material yaml file from the Git Repository\n",
    "with open(yaml_file, \"wb\") as file:\n",
    "    file.write(response.content)\n",
    "print(f\"File downloaded successfully as {yaml_file}\")\n",
    "\n",
    "# Extract the Zenodo Record IDs\n",
    "zenodo_ids = get_zenodo_ids_from_yaml(yaml_file)\n",
    "print(f\"Found {len(zenodo_ids)} Zenodo records: {zenodo_ids}\")"
   ]
  },
  {
   "cell_type": "code",
   "execution_count": 11,
   "id": "1b038338-7cc9-4773-b8b5-4fc3fb9fd2d1",
   "metadata": {},
   "outputs": [
    {
     "name": "stdout",
     "output_type": "stream",
     "text": [
      " Downloaded PDF saved at: zenodo_12623730_pdf2.pdf\n"
     ]
    }
   ],
   "source": [
    "from pdf_utilities import save_images, download_zenodo_pdf\n",
    "\n",
    "# You can either choose a specific record from the training material, or just load the desired PDF in this repository and change the pdf_path to the corresponding filename\n",
    "zenodo_record_id = \"12623730\"  # Change to the desired Record\n",
    "pdf_number = 2  # Change to the desired PDF number\n",
    "\n",
    "# Step 1: Download PDF\n",
    "pdf_path = download_zenodo_pdf(zenodo_record_id, pdf_number, \"downloaded_images\")\n",
    "\n",
    "# Step 2: Save Images\n",
    "save_images(\"downloaded_images\", pdf_path)"
   ]
  },
  {
   "cell_type": "markdown",
   "id": "99f2795f-178a-45f7-8cee-73df3112df95",
   "metadata": {},
   "source": [
    "## First, all images (that very previously downloaded) are encoded and sent to the VLM to create one question per Slide"
   ]
  },
  {
   "cell_type": "code",
   "execution_count": 12,
   "id": "e8733343-a420-4b3d-892e-c5d6bbae514a",
   "metadata": {},
   "outputs": [],
   "source": [
    "from PIL import Image\n",
    "\n",
    "def encode_image(image_path, max_size=(512, 512), quality=75, convert_to_jpeg=True):\n",
    "    \"\"\"\n",
    "    Resize and compress an image before encoding it to Base64.\n",
    "    \n",
    "    Parameters:\n",
    "    - image_path (str): Path to the image.\n",
    "    - max_size (tuple): Maximum width and height (default: 512x512).\n",
    "    - quality (int): JPEG quality (1-100), lower = smaller size.\n",
    "    - convert_to_jpeg (bool): Convert PNG to JPEG to reduce size.\n",
    "\n",
    "    Returns:\n",
    "    - str: Base64 encoded string of the optimized image.\n",
    "    \"\"\"\n",
    "    with Image.open(image_path) as img:\n",
    "        # Convert PNG to JPEG (optional)\n",
    "        if convert_to_jpeg and img.format == \"PNG\":\n",
    "            img = img.convert(\"RGB\")  # Remove alpha channel for JPEG\n",
    "\n",
    "        # Resize image while maintaining aspect ratio\n",
    "        img.thumbnail(max_size, Image.Resampling.LANCZOS)  # Use high-quality resizing\n",
    "\n",
    "        # Save to a BytesIO buffer\n",
    "        img_buffer = io.BytesIO()\n",
    "        img_format = \"JPEG\" if convert_to_jpeg else img.format  # Save as JPEG if converting\n",
    "        img.save(img_buffer, format=img_format, quality=quality, optimize=True)\n",
    "\n",
    "        # Convert to Base64\n",
    "        img_buffer.seek(0)\n",
    "        return base64.b64encode(img_buffer.getvalue()).decode(\"utf-8\")\n"
   ]
  },
  {
   "cell_type": "code",
   "execution_count": 13,
   "id": "ae74d0d1-5e5a-4c4f-a9b5-b06babd5bfe8",
   "metadata": {},
   "outputs": [],
   "source": [
    "def get_image_paths(folder):\n",
    "    image_paths = sorted([\n",
    "        os.path.join(folder, f) for f in os.listdir(folder) if f.endswith(\".png\")\n",
    "    ])\n",
    "    return image_paths\n",
    "\n",
    "# Example usage\n",
    "image_folder = \"downloaded_images\"\n",
    "image_files = get_image_paths(image_folder)"
   ]
  },
  {
   "cell_type": "code",
   "execution_count": 14,
   "id": "da612d9b-f756-44b4-a1dd-2748ac144813",
   "metadata": {},
   "outputs": [],
   "source": [
    "def ask_vlm_one_by_one(image_paths, knowledge_level=\"intermediate\"):    \n",
    "    for model in openai_client.models.list().data:\n",
    "        model_name = model.id\n",
    "        if \"Qwen/\" in model_name:\n",
    "            break\n",
    "        \n",
    "    system_prompt = f\"You are an AI assistant that analyzes slide presentations and creates a set of Exam Questions from them. Formulate the questions depending on the knowledge level, to make it easier or more detailed. The level is {knowledge_level}.\"\n",
    "    prompt = \"Take a look at the Slide and suggest a Exam Question for College Students concerning the topic of the current Slide. Output ONLY the Question, no additional information or explanations. Also output EXACTELY one Question per Image.\"\n",
    "    \n",
    "    responses = [] \n",
    "\n",
    "    for img_path in image_paths:\n",
    "        base64_image = encode_image(img_path)  # Convert image to Base64\n",
    "\n",
    "        messages = [\n",
    "            {\"role\": \"system\", \"content\": system_prompt},\n",
    "            {\"role\": \"user\", \"content\": [\n",
    "                {\"type\": \"text\", \"text\": prompt},\n",
    "                {\"type\": \"image_url\", \"image_url\": {\"url\": f\"data:image/jpeg;base64,{base64_image}\"}}\n",
    "            ]}\n",
    "        ]\n",
    "\n",
    "        # Send request\n",
    "        response = openai_client.chat.completions.create(\n",
    "            model=model_name,\n",
    "            messages=messages\n",
    "        )\n",
    "\n",
    "        # Store response\n",
    "        responses.append(response.choices[0].message.content)\n",
    "\n",
    "    return responses \n",
    "\n"
   ]
  },
  {
   "cell_type": "code",
   "execution_count": 18,
   "id": "7c412452-6f30-4f0b-8b90-0461c662ddfc",
   "metadata": {},
   "outputs": [
    {
     "name": "stdout",
     "output_type": "stream",
     "text": [
      "Response for Image 1: What are the key components of research data management as discussed in the presentation?\n",
      "Response for Image 2: What are the key stages in the RDM Life Cycle and what are their respective responsibilities?\n",
      "Response for Image 3: What is the importance of licensing in the RDM life cycle and how does it impact the next cycle or acquisition?\n",
      "Response for Image 4: What are the key components of good RDM (Research Data Management) as outlined in the slide?\n",
      "Response for Image 5: What are the key responsibilities of a domain specialist in the context of scientific questions related to the physical world?\n",
      "Response for Image 6: What are the key components of a Data Management Plan (DMP)?\n",
      "Response for Image 7: What are the key responsibilities and procedures that should be defined early in a Data Management Plan (DMP)?\n",
      "Response for Image 8: What is the difference between archiving and backup?\n",
      "Response for Image 9: What is the difference between a role and a job profile in the context of Data Scientists?\n",
      "Response for Image 10: What is the role and job profile of a Data Steward?\n",
      "Response for Image 11: What are the different types of content that can be shared and licensed according to the slide?\n",
      "Response for Image 12: What is the difference between Reproducibility and Replicability in the context of scientific experiments?\n",
      "Response for Image 13: What are the potential long-term impacts on research software sustainability once a PhD student leaves the institute or field?\n",
      "Response for Image 14: What are the key developments in GPU-accelerated image processing that have contributed to the growth in citations for the related research?\n",
      "Response for Image 15: What is the purpose of the \"Kodex\" guidelines in the context of scientific culture and research practice?\n",
      "Response for Image 16: Who is responsible for publishing the work, and what is the role of the publisher in the process?\n",
      "Response for Image 17: What factors should be considered when determining whether to publish or share privately a document with unclear copyright?\n",
      "Response for Image 18: What factors determine whether you are allowed to publish your material?\n",
      "Response for Image 19: What are the advantages of open-source software compared to closed-source software?\n",
      "Response for Image 20: What is the role of Github in the context of publishing open-source code?\n",
      "Response for Image 21: What are the FAIR principles for sharing data?\n",
      "Response for Image 22: What are the four FAIR principles for making data findable?\n",
      "Response for Image 23: What does \"resolution\" in microscopy imaging describe?\n",
      "Response for Image 24: What are the different types of metadata discussed in the slide, and what are their purposes?\n",
      "Response for Image 25: What is the purpose of REMBI: Recommended Metadata for Biological Images?\n",
      "Response for Image 26: What is the difference between Digital Object Identifiers (DOIs) and Unified Resource Locators (URLs)?\n",
      "Response for Image 27: What are the two main points about indexing materials mentioned in the slide?\n",
      "Response for Image 28: What is the importance of making your slides online and accessible for future reference?\n",
      "Response for Image 29: What are the benefits of using open and FAIR sharing as a PR instrument in the context of software development?\n",
      "Response for Image 30: What are the two main principles of the FAIR principles for metadata accessibility?\n",
      "Response for Image 31: What is the significance of accessibility in the context of AI development?\n",
      "Response for Image 32: What is the purpose of the BioImage Archive mentioned in the slide?\n",
      "Response for Image 33: What does the \"A\" in FAIR stand for in the context of restricted access?\n",
      "Response for Image 34: What are the key components of Research Data Management (RDM) as outlined in the slide?\n",
      "Response for Image 35: What are the three key aspects of interoperable (Meta)data according to the FAIR principles?\n",
      "Response for Image 36: What are the three main characteristics of reusable (Meta)data according to the FAIR principles?\n",
      "Response for Image 37: What is the significance of open access in the context of reusability of tools and methods?\n",
      "Response for Image 38: What are some open science related content sharing platforms mentioned in the slide?\n",
      "Response for Image 39: Where might open source code be most visible?\n",
      "Response for Image 40: What is the median F1 score achieved by the T1 algorithms in the multimodality cell segmentation challenge, and how does it compare to other algorithms?\n",
      "Response for Image 41: What are the errors that were revealed during the initial testing of the winning entry \"mediar 8\" and how do they affect the application of recent data?\n",
      "Response for Image 42: What is the CellPose framework, and why did the authors of the slide mention that Mediar copied their codebase without modification?\n",
      "Response for Image 43: What is the BSD-3 license and why is it relevant to copyright discussions in the context of the Cellpose project?\n",
      "Response for Image 44: What are the different types of Creative Commons licenses and what do they allow?\n",
      "Response for Image 45: What are the key processes involved in the RDM Life Cycle and how are they ideally cyclic?\n",
      "Response for Image 46: What are the key differences between public domain and public domain (CC0) licenses in terms of copyright and reuse rights?\n",
      "Response for Image 47: What is the purpose of the \"By attribution\" element in the CC BY license?\n",
      "Response for Image 48: What is the Creative Commons Attribution (CC BY) license and how is it used in the context of the Open Microscopy Environment?\n",
      "Response for Image 49: What is the \"Share alike\" requirement in the CC BY-SA license?\n",
      "Response for Image 50: What are the key elements of the CC BY-NC license and what does it restrict?\n",
      "Response for Image 51: What is the difference between the CC BY and CC BY-ND licenses?\n",
      "Response for Image 52: What are the restrictions of the CC BY-NC-ND license?\n",
      "Response for Image 53: Can you download and redistribute the preprint to students of a course for free?\n",
      "Response for Image 54: What are some popular open-source licenses and their characteristics?\n",
      "Response for Image 55: What is the significance of the GNU General Public License (GPL) in the context of software licensing?\n",
      "Response for Image 56: What are the four main stages of the RDM Life Cycle?\n",
      "Response for Image 57: Can I build a commercial product on the basis of GPL-licensed code?\n",
      "Response for Image 58: What is the BSD0 license, and how does it differ from the CC0 license?\n",
      "Response for Image 59: What does the disclaimer in the BSD0 license state about the author's liability?\n",
      "Response for Image 60: What are the key differences between the BSD2 licensing and CC-BY licensing?\n",
      "Response for Image 61: What is the BSD3 license, and how does it differ from the CC-BY license?\n",
      "Response for Image 62: What is the difference between restrictive and permissive licensing in the context of software development?\n",
      "Response for Image 63: Can you reuse code from a repository with a BSD license in your own work?\n",
      "Response for Image 64: Can you reuse code from a repository with a GPL license in your own work?\n",
      "Response for Image 65: What are software environments and why are they important in the field of scalable data analytics and artificial intelligence?\n",
      "Response for Image 66: What are the key elements of version control in the context of data science?\n",
      "Response for Image 67: What are the main stages of the RDM Life Cycle and what do they entail?\n",
      "Response for Image 68: What is the purpose of the \"Stage\" in the Git process?\n",
      "Response for Image 69: Who wrote this code and when and why?\n",
      "Response for Image 70: What are the steps to create a new, empty repository on GitHub?\n",
      "Response for Image 71: What are the two methods mentioned for cloning a repository on GitHub?\n",
      "Response for Image 72: What are the three main steps involved in uploading a file to GitHub using Git?\n",
      "Response for Image 73: What are the benefits of using GitHub for reading notebooks online?\n",
      "Response for Image 74: What is the process of forking in Git and how does it allow users to make copies of repositories with edit rights?\n",
      "Response for Image 75: What is the purpose of forking a repository on GitHub?\n",
      "Response for Image 76: What is the purpose of uploading changes to a fork on GitHub after fixing a bug?\n",
      "Response for Image 77: What is a pull request in the context of GitHub and how can it be used to contribute to open-source projects?\n",
      "Response for Image 78: What are the three main types of data mentioned in the slide and what are examples of each?\n",
      "Response for Image 79: What is a pull request in the context of GitHub, and how does it benefit the reviewer perspective?\n",
      "Response for Image 80: What is a pull request in the context of GitHub, and how does it benefit the reviewer perspective?\n",
      "Response for Image 81: What is the purpose of using Github in collaborative bio-image analysis?\n",
      "Response for Image 82: What are the four ways to legally reuse code as mentioned in the slide?\n",
      "Response for Image 83: What are the main objectives of the exercises in the ScaDS.AI program?\n",
      "Response for Image 84: What is the purpose of the Bio-image Data Science course and what resources are available for students?\n",
      "Response for Image 85: What is the purpose of installing mamba on a computer?\n",
      "Response for Image 86: What is the task assigned to the students in the exercise related to the BiolImage Archive?\n",
      "Response for Image 87: What are the steps to register and upload images from the BiolImage Archive to the Speicherwolke at Uni Leipzig?\n",
      "Response for Image 88: What are the DOI and Zenodo APIs used for in the context of online records?\n",
      "Response for Image 89: What are the different types of data mentioned in the slide and what is the need for protection for each type?\n",
      "Response for Image 90: What are the steps to complete the exercise on fixing a typo and sending a pull request?\n"
     ]
    }
   ],
   "source": [
    "responses = ask_vlm_one_by_one(image_files, \"beginner\")\n",
    "for i, res in enumerate(responses):\n",
    "    print(f\"Response for Image {i+1}: {res}\")"
   ]
  },
  {
   "cell_type": "markdown",
   "id": "d4c0742d-91f6-4e62-9f01-b502d4600f46",
   "metadata": {},
   "source": [
    "## Second, all questions are then again passed to the VLM, asking to summarize them in order to extract questions covering the most important points."
   ]
  },
  {
   "cell_type": "code",
   "execution_count": 19,
   "id": "55a7160b-0c7a-4d65-86b8-4adc67f5f6fa",
   "metadata": {},
   "outputs": [],
   "source": [
    "def ask_for_summary(responses_per_slide):\n",
    "    openai_client = OpenAI(base_url=\"https://llm.scads.ai/v1\", api_key=my_api_key)\n",
    "\n",
    "    # Find model with \"llama\" in name\n",
    "    for model in openai_client.models.list().data:\n",
    "        model_name = model.id\n",
    "        if \"Llama\" in model_name:\n",
    "            break\n",
    "    \n",
    "    number_of_slides = len(responses_per_slide)\n",
    "    max_questions = number_of_slides / 3\n",
    "    \n",
    "    questions = \", \".join(responses_per_slide)\n",
    "    \n",
    "    prompt = f\"\"\"\n",
    "    Here is a list of Exam Questions : {questions}, relating to one specific deck of presentation Slides. \n",
    "    Each Slide got converted into a question. Go through the list and extract up to {max_questions} reasonable Exam Questions for College Students to that specific topic.\n",
    "    Output the Questions numerated and output nothing else than those questions (no extra explanation, etc.):\n",
    "    1. Question 1\n",
    "    2. Questions 2\n",
    "    ...\n",
    "\n",
    "    Try to stick as closely to the topics from the list as possible and extract the key points into new questions.\n",
    "    \"\"\"\n",
    "    \n",
    "    messages = [\n",
    "            {\"role\": \"user\", \"content\": [\n",
    "                {\"type\": \"text\", \"text\": prompt}\n",
    "            ]}\n",
    "        ]\n",
    "\n",
    "    # Send request\n",
    "    response = openai_client.chat.completions.create(model=model_name,messages=messages)\n",
    "\n",
    "    return response.choices[0].message.content"
   ]
  },
  {
   "cell_type": "code",
   "execution_count": 20,
   "id": "12802830-d802-4b3e-b696-ef79d6de7b50",
   "metadata": {},
   "outputs": [
    {
     "name": "stdout",
     "output_type": "stream",
     "text": [
      "1. What are the key components of research data management?\n",
      "2. What are the stages in the RDM Life Cycle and their respective responsibilities?\n",
      "3. What is the importance of licensing in the RDM life cycle?\n",
      "4. What are the key components of a good Research Data Management plan?\n",
      "5. What is the role of a domain specialist in scientific research?\n",
      "6. What are the key components of a Data Management Plan?\n",
      "7. What is the difference between archiving and backup?\n",
      "8. What is the role and job profile of a Data Steward?\n",
      "9. What are the different types of content that can be shared and licensed?\n",
      "10. What is the difference between Reproducibility and Replicability in scientific experiments?\n",
      "11. What are the potential long-term impacts on research software sustainability?\n",
      "12. What are the FAIR principles for sharing data?\n",
      "13. What are the four FAIR principles for making data findable?\n",
      "14. What does \"resolution\" in microscopy imaging describe?\n",
      "15. What are the different types of metadata and their purposes?\n",
      "16. What is the purpose of REMBI: Recommended Metadata for Biological Images?\n",
      "17. What is the difference between Digital Object Identifiers (DOIs) and Unified Resource Locators (URLs)?\n",
      "18. What are the benefits of using open and FAIR sharing as a PR instrument?\n",
      "19. What are the two main principles of the FAIR principles for metadata accessibility?\n",
      "20. What is the significance of accessibility in the context of AI development?\n",
      "21. What is the purpose of the BioImage Archive?\n",
      "22. What are the key components of Research Data Management as outlined in the FAIR principles?\n",
      "23. What are the three key aspects of interoperable metadata according to the FAIR principles?\n",
      "24. What are the three main characteristics of reusable metadata according to the FAIR principles?\n",
      "25. What is the significance of open access in the context of reusability of tools and methods?\n",
      "26. What are some open science related content sharing platforms?\n",
      "27. What is the purpose of Github in the context of publishing open-source code?\n",
      "28. What are the advantages of open-source software compared to closed-source software?\n",
      "29. What are the key processes involved in the RDM Life Cycle?\n",
      "30. What are the different types of Creative Commons licenses and what do they allow?\n"
     ]
    }
   ],
   "source": [
    "summary = ask_for_summary(responses)\n",
    "print(summary)"
   ]
  },
  {
   "cell_type": "markdown",
   "id": "7562d2ef-2f6b-4f7c-b06a-5ba2890a4d3a",
   "metadata": {},
   "source": [
    "## Third, questions can also be created with another knowledge level"
   ]
  },
  {
   "cell_type": "code",
   "execution_count": 21,
   "id": "3e8efc0b-3d75-4693-8932-d0d51fbbf0d9",
   "metadata": {},
   "outputs": [],
   "source": [
    "# Test if changing the knowledge level works\n",
    "responses = ask_vlm_one_by_one(image_files, \"expert\")\n",
    "summary = ask_for_summary(responses)"
   ]
  },
  {
   "cell_type": "code",
   "execution_count": 22,
   "id": "e2aed58b-581f-423d-8b5e-836b27f0cf6f",
   "metadata": {},
   "outputs": [
    {
     "name": "stdout",
     "output_type": "stream",
     "text": [
      "1. What are the key components of research data management in the context of scalable data analytics and artificial intelligence?\n",
      "2. What are the key stages involved in the RDM Life Cycle and their respective responsibilities?\n",
      "3. What is the importance of licensing in the RDM life cycle and its impact on the next cycle or acquisition?\n",
      "4. What are the key components of good Research Data Management as outlined in the slide?\n",
      "5. What are the key responsibilities of a data analyst and how do they differ from those of a domain specialist and an IT specialist?\n",
      "6. What are the key components of a Data Management Plan?\n",
      "7. What is the difference between archiving and backup in the context of regularly copying files to a remote place?\n",
      "8. What are the key responsibilities and skills required for a Data Scientist role?\n",
      "9. What is the role and job profile of a Data Steward?\n",
      "10. What are the different types of content that can be shared and licensed according to the slide?\n",
      "11. What is the difference between Reproducibility and Replicability in the context of scientific experiments?\n",
      "12. What are the potential long-term impacts on the sustainability of research software once a PhD student leaves the institute or field?\n",
      "13. What are the guidelines for safeguarding good research practice mentioned in the slide?\n",
      "14. What are the different roles involved in the publication of a work and how do they differ in terms of responsibility?\n",
      "15. What factors should be considered when determining whether it is allowed to publish material that was derived from copyrighted documents?\n",
      "16. What are the key differences between open-source and closed-source software projects and their impact on development and maintenance processes?\n",
      "17. What is the role of Github in the context of publishing open-source code?\n",
      "18. What are the FAIR principles for sharing data and their significance in research?\n",
      "19. What does \"resolution\" in microscopy imaging describe and what is its importance in research?\n",
      "20. What are the key components of metadata in the context of microscopy and how do they contribute to the goals of FAIR and reproducibility?\n",
      "21. What is the purpose of REMBI and how does it enable the reuse of microscopy data in biology?\n",
      "22. What is the difference between Digital Object Identifiers (DOIs) and Unified Resource Locators (URLs) in the context of data sharing?\n",
      "23. How can ensuring online, open access to your future self's work help in finding your work and what are its benefits?\n",
      "24. What are the benefits of open and FAIR sharing practices on platforms like YouTube and GitHub in the context of software engineering?\n",
      "25. What are the two main criteria for metadata to be considered accessible according to the FAIR principles?\n",
      "26. What is the significance of accessibility in the context of AI development and how does it impact research?\n",
      "27. What are the key components of Research Data Management as outlined in the slide and their importance in research?\n",
      "28. What are the three key aspects of interoperable (Meta)data according to the FAIR principles and their significance in research?\n",
      "29. What are the three main characteristics of reusable (Meta)data according to the FAIR principles and their importance in research?\n",
      "30. How does open access contribute to the reusability of tools and methods in research and what are its benefits?\n"
     ]
    }
   ],
   "source": [
    "print(summary)"
   ]
  }
 ],
 "metadata": {
  "kernelspec": {
   "display_name": "Python 3 (ipykernel)",
   "language": "python",
   "name": "python3"
  },
  "language_info": {
   "codemirror_mode": {
    "name": "ipython",
    "version": 3
   },
   "file_extension": ".py",
   "mimetype": "text/x-python",
   "name": "python",
   "nbconvert_exporter": "python",
   "pygments_lexer": "ipython3",
   "version": "3.10.12"
  }
 },
 "nbformat": 4,
 "nbformat_minor": 5
}
