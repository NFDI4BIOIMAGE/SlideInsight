{
 "cells": [
  {
   "cell_type": "markdown",
   "id": "b7f36e2d-dd6e-41d9-9ebd-d07c811d4a26",
   "metadata": {},
   "source": [
    "## Creating Text Embeddings to identify related slides\n",
    "This notebook is used to identify similar or related groups of slides within different pdf files. For this, we use a dictionary with Text-Slide pairs (which was created in the [first Notebook](https://github.com/NFDI4BIOIMAGE/SlideInsight/blob/main/Test_Models.ipynb)). \n",
    "\n",
    "To do so, we first load the dictionary from the .json file:"
   ]
  },
  {
   "cell_type": "code",
   "execution_count": 1,
   "id": "48084b44-e23a-43e2-938a-b6b50f1bbfce",
   "metadata": {},
   "outputs": [],
   "source": [
    "import json\n",
    "\n",
    "# Load the JSON file containing the image paths and corresponding text\n",
    "with open(\"dict_slides_text.json\", \"r\") as json_file:\n",
    "    slide_dict = json.load(json_file)"
   ]
  },
  {
   "cell_type": "markdown",
   "id": "d893d7c9-2f2c-45c3-8571-c31624de5fd4",
   "metadata": {},
   "source": [
    "### Pip install the model\n",
    "Here, the [mxbai-embed-large model](https://ollama.com/library/mxbai-embed-large) is used to create the embedding.\n",
    "\n",
    "`!pip install -U mixedbread-ai sentence-transformers`"
   ]
  },
  {
   "cell_type": "code",
   "execution_count": 2,
   "id": "5f2b6847-80d8-4006-85f1-4ce17cfcbe18",
   "metadata": {},
   "outputs": [],
   "source": [
    "from sentence_transformers import SentenceTransformer\n",
    "from sentence_transformers.util import cos_sim\n",
    "\n",
    "# Load the model\n",
    "model = SentenceTransformer(\"mixedbread-ai/mxbai-embed-large-v1\")"
   ]
  },
  {
   "cell_type": "markdown",
   "id": "5cadb613-41ed-40a3-b225-220d0d47045a",
   "metadata": {},
   "source": [
    "A pandas DataFrame is created to save all important properties of each slide:\n",
    "- .pdf filename\n",
    "- Slide number\n",
    "- Text\n",
    "- .png filename\n",
    "- Embedding vector"
   ]
  },
  {
   "cell_type": "code",
   "execution_count": 3,
   "id": "ce5e728e-3521-43e7-b5e7-58ab04ae6abc",
   "metadata": {},
   "outputs": [],
   "source": [
    "page_data = []\n",
    "\n",
    "# Iterate over the dictionary\n",
    "for png_filename, text in slide_dict.items():\n",
    "    # Get the PDF name and slide number from the filename\n",
    "    pdf_name = png_filename.split('_slide')[0]\n",
    "    \n",
    "    # Process only entries from the \"WhatIsOMERO\" PDF\n",
    "    if pdf_name == \"WhatIsOMERO\":\n",
    "        slide_number = int(png_filename.split('_slide')[-1].split('.png')[0])\n",
    "        \n",
    "        # Get embedding\n",
    "        embedding = model.encode(text)\n",
    "\n",
    "        page_data.append({\n",
    "            'pdf_filename': f'{pdf_name}.pdf',\n",
    "            'page_index': slide_number,\n",
    "            'text': text,\n",
    "            'png_filename': png_filename,\n",
    "            'embedding': embedding\n",
    "        })\n"
   ]
  },
  {
   "cell_type": "code",
   "execution_count": 4,
   "id": "b1221643-362f-447d-aad1-f7e97790f84b",
   "metadata": {},
   "outputs": [],
   "source": [
    "import pandas as pd\n",
    "\n",
    "df = pd.DataFrame(page_data)"
   ]
  },
  {
   "cell_type": "code",
   "execution_count": 5,
   "id": "bc08570b-7cee-477e-915c-8873484f533c",
   "metadata": {},
   "outputs": [
    {
     "data": {
      "text/html": [
       "<div>\n",
       "<style scoped>\n",
       "    .dataframe tbody tr th:only-of-type {\n",
       "        vertical-align: middle;\n",
       "    }\n",
       "\n",
       "    .dataframe tbody tr th {\n",
       "        vertical-align: top;\n",
       "    }\n",
       "\n",
       "    .dataframe thead th {\n",
       "        text-align: right;\n",
       "    }\n",
       "</style>\n",
       "<table border=\"1\" class=\"dataframe\">\n",
       "  <thead>\n",
       "    <tr style=\"text-align: right;\">\n",
       "      <th></th>\n",
       "      <th>pdf_filename</th>\n",
       "      <th>page_index</th>\n",
       "      <th>text</th>\n",
       "      <th>png_filename</th>\n",
       "      <th>embedding</th>\n",
       "    </tr>\n",
       "  </thead>\n",
       "  <tbody>\n",
       "    <tr>\n",
       "      <th>0</th>\n",
       "      <td>WhatIsOMERO.pdf</td>\n",
       "      <td>1</td>\n",
       "      <td>I3D:bio OMERO user training slides\\nHOW TO USE...</td>\n",
       "      <td>WhatIsOMERO_slide1.png</td>\n",
       "      <td>[0.4003333, -0.33649126, 0.39981106, -0.473099...</td>\n",
       "    </tr>\n",
       "    <tr>\n",
       "      <th>1</th>\n",
       "      <td>WhatIsOMERO.pdf</td>\n",
       "      <td>2</td>\n",
       "      <td>Disclaimer\\n• The following slides are intende...</td>\n",
       "      <td>WhatIsOMERO_slide2.png</td>\n",
       "      <td>[0.39082658, -0.28587455, 0.38830236, -0.37186...</td>\n",
       "    </tr>\n",
       "    <tr>\n",
       "      <th>2</th>\n",
       "      <td>WhatIsOMERO.pdf</td>\n",
       "      <td>3</td>\n",
       "      <td>Research Data Management for Bioimage Data\\nat...</td>\n",
       "      <td>WhatIsOMERO_slide3.png</td>\n",
       "      <td>[0.18631458, -0.3715705, -0.016562128, -0.6950...</td>\n",
       "    </tr>\n",
       "    <tr>\n",
       "      <th>3</th>\n",
       "      <td>WhatIsOMERO.pdf</td>\n",
       "      <td>4</td>\n",
       "      <td>OMERO: An open-source software for image data ...</td>\n",
       "      <td>WhatIsOMERO_slide4.png</td>\n",
       "      <td>[0.1806397, -0.6081787, -0.6387917, -0.4824682...</td>\n",
       "    </tr>\n",
       "    <tr>\n",
       "      <th>4</th>\n",
       "      <td>WhatIsOMERO.pdf</td>\n",
       "      <td>5</td>\n",
       "      <td>From isolated data silos…\\np 5 ADD LOGO SMALL</td>\n",
       "      <td>WhatIsOMERO_slide5.png</td>\n",
       "      <td>[-0.44303596, -0.50006086, 0.52318454, -0.3337...</td>\n",
       "    </tr>\n",
       "    <tr>\n",
       "      <th>5</th>\n",
       "      <td>WhatIsOMERO.pdf</td>\n",
       "      <td>6</td>\n",
       "      <td>… to centralized, structured data management\\n...</td>\n",
       "      <td>WhatIsOMERO_slide6.png</td>\n",
       "      <td>[-0.16422987, -0.5776923, 0.6634136, -0.554668...</td>\n",
       "    </tr>\n",
       "    <tr>\n",
       "      <th>6</th>\n",
       "      <td>WhatIsOMERO.pdf</td>\n",
       "      <td>7</td>\n",
       "      <td>OMERO at the ADD INSTITUTE HERE\\nService provi...</td>\n",
       "      <td>WhatIsOMERO_slide7.png</td>\n",
       "      <td>[-0.62620574, 0.008420461, -0.89739054, -0.598...</td>\n",
       "    </tr>\n",
       "    <tr>\n",
       "      <th>7</th>\n",
       "      <td>WhatIsOMERO.pdf</td>\n",
       "      <td>8</td>\n",
       "      <td>Advantages of using OMERO\\n• Organize your ori...</td>\n",
       "      <td>WhatIsOMERO_slide8.png</td>\n",
       "      <td>[0.030079262, 0.27903175, -0.33694014, -0.8887...</td>\n",
       "    </tr>\n",
       "    <tr>\n",
       "      <th>8</th>\n",
       "      <td>WhatIsOMERO.pdf</td>\n",
       "      <td>9</td>\n",
       "      <td>Contact\\nPlease review the additional informat...</td>\n",
       "      <td>WhatIsOMERO_slide9.png</td>\n",
       "      <td>[-0.23266867, -0.5224059, 0.050569788, -0.4461...</td>\n",
       "    </tr>\n",
       "  </tbody>\n",
       "</table>\n",
       "</div>"
      ],
      "text/plain": [
       "      pdf_filename  page_index  \\\n",
       "0  WhatIsOMERO.pdf           1   \n",
       "1  WhatIsOMERO.pdf           2   \n",
       "2  WhatIsOMERO.pdf           3   \n",
       "3  WhatIsOMERO.pdf           4   \n",
       "4  WhatIsOMERO.pdf           5   \n",
       "5  WhatIsOMERO.pdf           6   \n",
       "6  WhatIsOMERO.pdf           7   \n",
       "7  WhatIsOMERO.pdf           8   \n",
       "8  WhatIsOMERO.pdf           9   \n",
       "\n",
       "                                                text            png_filename  \\\n",
       "0  I3D:bio OMERO user training slides\\nHOW TO USE...  WhatIsOMERO_slide1.png   \n",
       "1  Disclaimer\\n• The following slides are intende...  WhatIsOMERO_slide2.png   \n",
       "2  Research Data Management for Bioimage Data\\nat...  WhatIsOMERO_slide3.png   \n",
       "3  OMERO: An open-source software for image data ...  WhatIsOMERO_slide4.png   \n",
       "4      From isolated data silos…\\np 5 ADD LOGO SMALL  WhatIsOMERO_slide5.png   \n",
       "5  … to centralized, structured data management\\n...  WhatIsOMERO_slide6.png   \n",
       "6  OMERO at the ADD INSTITUTE HERE\\nService provi...  WhatIsOMERO_slide7.png   \n",
       "7  Advantages of using OMERO\\n• Organize your ori...  WhatIsOMERO_slide8.png   \n",
       "8  Contact\\nPlease review the additional informat...  WhatIsOMERO_slide9.png   \n",
       "\n",
       "                                           embedding  \n",
       "0  [0.4003333, -0.33649126, 0.39981106, -0.473099...  \n",
       "1  [0.39082658, -0.28587455, 0.38830236, -0.37186...  \n",
       "2  [0.18631458, -0.3715705, -0.016562128, -0.6950...  \n",
       "3  [0.1806397, -0.6081787, -0.6387917, -0.4824682...  \n",
       "4  [-0.44303596, -0.50006086, 0.52318454, -0.3337...  \n",
       "5  [-0.16422987, -0.5776923, 0.6634136, -0.554668...  \n",
       "6  [-0.62620574, 0.008420461, -0.89739054, -0.598...  \n",
       "7  [0.030079262, 0.27903175, -0.33694014, -0.8887...  \n",
       "8  [-0.23266867, -0.5224059, 0.050569788, -0.4461...  "
      ]
     },
     "execution_count": 5,
     "metadata": {},
     "output_type": "execute_result"
    }
   ],
   "source": [
    "df"
   ]
  },
  {
   "cell_type": "markdown",
   "id": "1375fa65-7d48-4e0b-8893-13b52ea1f911",
   "metadata": {},
   "source": [
    "### Pip install UMAP\n",
    "Now, we perform a dimensionality reduction using the UMAP, to enable a simple 2D plotting of our datapoints (slides).\n",
    "\n",
    "`!pip install -U umap-learn`"
   ]
  },
  {
   "cell_type": "code",
   "execution_count": 6,
   "id": "923d0916-ae08-45c0-aa42-dba8314dbc84",
   "metadata": {},
   "outputs": [
    {
     "name": "stderr",
     "output_type": "stream",
     "text": [
      "/home/lea/.local/lib/python3.10/site-packages/umap/umap_.py:1952: UserWarning: n_jobs value 1 overridden to 1 by setting random_state. Use no seed for parallelism.\n",
      "  warn(\n",
      "/home/lea/.local/lib/python3.10/site-packages/umap/umap_.py:2462: UserWarning: n_neighbors is larger than the dataset size; truncating to X.shape[0] - 1\n",
      "  warn(\n"
     ]
    },
    {
     "data": {
      "text/html": [
       "<div>\n",
       "<style scoped>\n",
       "    .dataframe tbody tr th:only-of-type {\n",
       "        vertical-align: middle;\n",
       "    }\n",
       "\n",
       "    .dataframe tbody tr th {\n",
       "        vertical-align: top;\n",
       "    }\n",
       "\n",
       "    .dataframe thead th {\n",
       "        text-align: right;\n",
       "    }\n",
       "</style>\n",
       "<table border=\"1\" class=\"dataframe\">\n",
       "  <thead>\n",
       "    <tr style=\"text-align: right;\">\n",
       "      <th></th>\n",
       "      <th>pdf_filename</th>\n",
       "      <th>page_index</th>\n",
       "      <th>text</th>\n",
       "      <th>png_filename</th>\n",
       "      <th>embedding</th>\n",
       "      <th>UMAP0</th>\n",
       "      <th>UMAP1</th>\n",
       "    </tr>\n",
       "  </thead>\n",
       "  <tbody>\n",
       "    <tr>\n",
       "      <th>0</th>\n",
       "      <td>WhatIsOMERO.pdf</td>\n",
       "      <td>1</td>\n",
       "      <td>I3D:bio OMERO user training slides\\nHOW TO USE...</td>\n",
       "      <td>WhatIsOMERO_slide1.png</td>\n",
       "      <td>[0.4003333, -0.33649126, 0.39981106, -0.473099...</td>\n",
       "      <td>22.988615</td>\n",
       "      <td>6.322064</td>\n",
       "    </tr>\n",
       "    <tr>\n",
       "      <th>1</th>\n",
       "      <td>WhatIsOMERO.pdf</td>\n",
       "      <td>2</td>\n",
       "      <td>Disclaimer\\n• The following slides are intende...</td>\n",
       "      <td>WhatIsOMERO_slide2.png</td>\n",
       "      <td>[0.39082658, -0.28587455, 0.38830236, -0.37186...</td>\n",
       "      <td>23.344933</td>\n",
       "      <td>5.576495</td>\n",
       "    </tr>\n",
       "    <tr>\n",
       "      <th>2</th>\n",
       "      <td>WhatIsOMERO.pdf</td>\n",
       "      <td>3</td>\n",
       "      <td>Research Data Management for Bioimage Data\\nat...</td>\n",
       "      <td>WhatIsOMERO_slide3.png</td>\n",
       "      <td>[0.18631458, -0.3715705, -0.016562128, -0.6950...</td>\n",
       "      <td>23.924927</td>\n",
       "      <td>6.251481</td>\n",
       "    </tr>\n",
       "    <tr>\n",
       "      <th>3</th>\n",
       "      <td>WhatIsOMERO.pdf</td>\n",
       "      <td>4</td>\n",
       "      <td>OMERO: An open-source software for image data ...</td>\n",
       "      <td>WhatIsOMERO_slide4.png</td>\n",
       "      <td>[0.1806397, -0.6081787, -0.6387917, -0.4824682...</td>\n",
       "      <td>23.767023</td>\n",
       "      <td>6.962986</td>\n",
       "    </tr>\n",
       "    <tr>\n",
       "      <th>4</th>\n",
       "      <td>WhatIsOMERO.pdf</td>\n",
       "      <td>5</td>\n",
       "      <td>From isolated data silos…\\np 5 ADD LOGO SMALL</td>\n",
       "      <td>WhatIsOMERO_slide5.png</td>\n",
       "      <td>[-0.44303596, -0.50006086, 0.52318454, -0.3337...</td>\n",
       "      <td>22.896355</td>\n",
       "      <td>7.774837</td>\n",
       "    </tr>\n",
       "    <tr>\n",
       "      <th>5</th>\n",
       "      <td>WhatIsOMERO.pdf</td>\n",
       "      <td>6</td>\n",
       "      <td>… to centralized, structured data management\\n...</td>\n",
       "      <td>WhatIsOMERO_slide6.png</td>\n",
       "      <td>[-0.16422987, -0.5776923, 0.6634136, -0.554668...</td>\n",
       "      <td>22.525280</td>\n",
       "      <td>7.269181</td>\n",
       "    </tr>\n",
       "    <tr>\n",
       "      <th>6</th>\n",
       "      <td>WhatIsOMERO.pdf</td>\n",
       "      <td>7</td>\n",
       "      <td>OMERO at the ADD INSTITUTE HERE\\nService provi...</td>\n",
       "      <td>WhatIsOMERO_slide7.png</td>\n",
       "      <td>[-0.62620574, 0.008420461, -0.89739054, -0.598...</td>\n",
       "      <td>24.787344</td>\n",
       "      <td>6.237605</td>\n",
       "    </tr>\n",
       "    <tr>\n",
       "      <th>7</th>\n",
       "      <td>WhatIsOMERO.pdf</td>\n",
       "      <td>8</td>\n",
       "      <td>Advantages of using OMERO\\n• Organize your ori...</td>\n",
       "      <td>WhatIsOMERO_slide8.png</td>\n",
       "      <td>[0.030079262, 0.27903175, -0.33694014, -0.8887...</td>\n",
       "      <td>24.230747</td>\n",
       "      <td>7.502076</td>\n",
       "    </tr>\n",
       "    <tr>\n",
       "      <th>8</th>\n",
       "      <td>WhatIsOMERO.pdf</td>\n",
       "      <td>9</td>\n",
       "      <td>Contact\\nPlease review the additional informat...</td>\n",
       "      <td>WhatIsOMERO_slide9.png</td>\n",
       "      <td>[-0.23266867, -0.5224059, 0.050569788, -0.4461...</td>\n",
       "      <td>24.280399</td>\n",
       "      <td>5.510377</td>\n",
       "    </tr>\n",
       "  </tbody>\n",
       "</table>\n",
       "</div>"
      ],
      "text/plain": [
       "      pdf_filename  page_index  \\\n",
       "0  WhatIsOMERO.pdf           1   \n",
       "1  WhatIsOMERO.pdf           2   \n",
       "2  WhatIsOMERO.pdf           3   \n",
       "3  WhatIsOMERO.pdf           4   \n",
       "4  WhatIsOMERO.pdf           5   \n",
       "5  WhatIsOMERO.pdf           6   \n",
       "6  WhatIsOMERO.pdf           7   \n",
       "7  WhatIsOMERO.pdf           8   \n",
       "8  WhatIsOMERO.pdf           9   \n",
       "\n",
       "                                                text            png_filename  \\\n",
       "0  I3D:bio OMERO user training slides\\nHOW TO USE...  WhatIsOMERO_slide1.png   \n",
       "1  Disclaimer\\n• The following slides are intende...  WhatIsOMERO_slide2.png   \n",
       "2  Research Data Management for Bioimage Data\\nat...  WhatIsOMERO_slide3.png   \n",
       "3  OMERO: An open-source software for image data ...  WhatIsOMERO_slide4.png   \n",
       "4      From isolated data silos…\\np 5 ADD LOGO SMALL  WhatIsOMERO_slide5.png   \n",
       "5  … to centralized, structured data management\\n...  WhatIsOMERO_slide6.png   \n",
       "6  OMERO at the ADD INSTITUTE HERE\\nService provi...  WhatIsOMERO_slide7.png   \n",
       "7  Advantages of using OMERO\\n• Organize your ori...  WhatIsOMERO_slide8.png   \n",
       "8  Contact\\nPlease review the additional informat...  WhatIsOMERO_slide9.png   \n",
       "\n",
       "                                           embedding      UMAP0     UMAP1  \n",
       "0  [0.4003333, -0.33649126, 0.39981106, -0.473099...  22.988615  6.322064  \n",
       "1  [0.39082658, -0.28587455, 0.38830236, -0.37186...  23.344933  5.576495  \n",
       "2  [0.18631458, -0.3715705, -0.016562128, -0.6950...  23.924927  6.251481  \n",
       "3  [0.1806397, -0.6081787, -0.6387917, -0.4824682...  23.767023  6.962986  \n",
       "4  [-0.44303596, -0.50006086, 0.52318454, -0.3337...  22.896355  7.774837  \n",
       "5  [-0.16422987, -0.5776923, 0.6634136, -0.554668...  22.525280  7.269181  \n",
       "6  [-0.62620574, 0.008420461, -0.89739054, -0.598...  24.787344  6.237605  \n",
       "7  [0.030079262, 0.27903175, -0.33694014, -0.8887...  24.230747  7.502076  \n",
       "8  [-0.23266867, -0.5224059, 0.050569788, -0.4461...  24.280399  5.510377  "
      ]
     },
     "execution_count": 6,
     "metadata": {},
     "output_type": "execute_result"
    }
   ],
   "source": [
    "import numpy as np\n",
    "import umap.umap_ as umap\n",
    "\n",
    "# Convert embedding vectors to numpy array for UMAP\n",
    "embeddings = np.array(df['embedding'].tolist())\n",
    "\n",
    "# Apply UMAP\n",
    "reducer = umap.UMAP(n_components=2, random_state=42)\n",
    "umap_embeddings = reducer.fit_transform(embeddings)\n",
    "\n",
    "df['UMAP0'] = umap_embeddings[:, 0]\n",
    "df['UMAP1'] = umap_embeddings[:, 1]\n",
    "\n",
    "df"
   ]
  },
  {
   "cell_type": "markdown",
   "id": "23a6dc3c-d2f2-49fa-88d3-7aa8d3b3c675",
   "metadata": {},
   "source": [
    "### Interactively Plotting Slides and Embedding\n",
    "In the final step, we can compare different groups of slides and their content.\n",
    "\n",
    "- The plot on the right shows the 2D representation of the Embedding. With drawing a circle around datapoints you can have a look at their content at the left.\n",
    "- Slides with similar content, regarding their text, should have similar vector representations and should appear close to each other in the plot."
   ]
  },
  {
   "cell_type": "code",
   "execution_count": 7,
   "id": "5b5b50a8-b34d-4a32-ae63-859c42a48054",
   "metadata": {},
   "outputs": [],
   "source": [
    "def get_images(df):\n",
    "    images = []\n",
    "    for _, row in df.iterrows():\n",
    "        img_path = row['png_filename']  # Access the correct row value\n",
    "        img = imread(img_path)  # Read the image\n",
    "        images.append(img)\n",
    "    return np.asarray(images)"
   ]
  },
  {
   "cell_type": "code",
   "execution_count": 8,
   "id": "e7325175-3ebf-4ac1-9672-5742d7e8d5d2",
   "metadata": {},
   "outputs": [
    {
     "data": {
      "application/vnd.jupyter.widget-view+json": {
       "model_id": "598bff8358ec415eb0d020d1d1493782",
       "version_major": 2,
       "version_minor": 0
      },
      "text/plain": [
       "HBox(children=(HBox(children=(VBox(children=(VBox(children=(HBox(children=(VBox(children=(ImageWidget(height=3…"
      ]
     },
     "execution_count": 8,
     "metadata": {},
     "output_type": "execute_result"
    }
   ],
   "source": [
    "import stackview\n",
    "from skimage.io import imread\n",
    "\n",
    "stackview.sliceplot(df, get_images(df), column_x=\"UMAP0\", column_y=\"UMAP1\", zoom_factor=1.5, zoom_spline_order=2)"
   ]
  },
  {
   "cell_type": "markdown",
   "id": "cd31c416-ed2b-4830-bc15-bec1bd62f1be",
   "metadata": {},
   "source": [
    "### Testing the plotting with a larger Slide Deck\n",
    "\n",
    "To have a better idea, how this plotting is working, we now use a larger sample of PDFs from the [training material](https://zenodo.org/records/14030307) collection about Bio-Image Analysis from Robert Haase (licensed under CC-BY 4.0). We also use his implementation to [download the PDFs from Zenodo](https://github.com/haesleinhuepf/stackview/blob/main/docs/sliceplot_datagen.ipynb).\n"
   ]
  },
  {
   "cell_type": "code",
   "execution_count": null,
   "id": "de4995ee-8b76-4322-a71e-08ba66e21d6b",
   "metadata": {},
   "outputs": [],
   "source": [
    "import requests\n",
    "import os\n",
    "\n",
    "def download_pdfs_from_zenodo(record_id):\n",
    "    \"\"\"Download PDFs from Zenodo record.\"\"\"\n",
    "    base_url = f\"https://zenodo.org/api/records/{record_id}\"\n",
    "    response = requests.get(base_url)\n",
    "    data = response.json()\n",
    "    \n",
    "    if not os.path.exists('downloads'):\n",
    "        os.makedirs('downloads')\n",
    "    \n",
    "    files_info = []\n",
    "    for file in data['files']:\n",
    "        if file['key'].endswith('.pdf'):\n",
    "            download_url = file['links']['self']\n",
    "            filename = record_id + \"_\" + file['key']\n",
    "            filepath = os.path.join('downloads', filename)\n",
    "\n",
    "            if not os.path.exists(filepath):\n",
    "                # Download file\n",
    "                response = requests.get(download_url)\n",
    "                with open(filepath, 'wb') as f:\n",
    "                    f.write(response.content)\n",
    "            \n",
    "            files_info.append({'filename': filename, 'url': download_url})\n",
    "    \n",
    "    return files_info\n",
    "\n",
    "\n",
    "# Download PDFs\n",
    "files_info = download_pdfs_from_zenodo('12623730')\n",
    "files_info\n"
   ]
  },
  {
   "cell_type": "markdown",
   "id": "b03e1a9a-fabd-4898-a76b-5961aefa181c",
   "metadata": {},
   "source": [
    "## Saving all Slides from the pdfs to .png Images"
   ]
  },
  {
   "cell_type": "code",
   "execution_count": null,
   "id": "2ba90b7d-e50c-48f8-9f3a-086b693d3bcb",
   "metadata": {},
   "outputs": [],
   "source": [
    "from pdf2image import convert_from_path\n",
    "from IPython.display import display\n",
    "from PIL import Image\n",
    "from pdf_utilities import load_pdf, save_images, text_extraction, text_extract_from_pdfs\n",
    "\n",
    "downloads_folder = \"downloads\"\n",
    "images_folder = os.path.join(\"downloads\", \"images\")\n",
    "\n",
    "# Ensure the \"images\" folder exists\n",
    "os.makedirs(images_folder, exist_ok=True)\n",
    "\n",
    "# Iterate over all files in the downloads folder\n",
    "for file_name in os.listdir(downloads_folder):\n",
    "    # Check if the file is a PDF\n",
    "    if file_name.lower().endswith('.pdf'):\n",
    "        pdf_path = os.path.join(downloads_folder, file_name)\n",
    "        print(f\"Processing PDF: {pdf_path}\")\n",
    "        \n",
    "        try:\n",
    "            # Use the save_images function to save images in the \"images\" folder\n",
    "            save_images(filepath=images_folder, pdf=pdf_path, new_width=700)\n",
    "            print(f\"Images for {file_name} saved successfully in {images_folder}.\")\n",
    "        except Exception as e:\n",
    "            print(f\"Error processing {file_name}: {e}\")"
   ]
  },
  {
   "cell_type": "markdown",
   "id": "8d8e8596-d33a-42c8-88f8-c491d49c146f",
   "metadata": {},
   "source": [
    "## Extracting the text from each slide and save it to the dict_slides_text.json"
   ]
  },
  {
   "cell_type": "code",
   "execution_count": null,
   "id": "d1d34f7a-f031-411a-b6c6-490637656a12",
   "metadata": {},
   "outputs": [],
   "source": [
    "text_extract_from_pdfs(downloads_folder=\"downloads\", yaml_file_path=\"dict_slides_text.yml\")"
   ]
  },
  {
   "cell_type": "markdown",
   "id": "cc81af41-7a03-4806-aacd-d1f3f4ddec65",
   "metadata": {},
   "source": [
    "## Creating the pandas DataFrame"
   ]
  },
  {
   "cell_type": "code",
   "execution_count": null,
   "id": "cf40f07a-564e-4fe0-ae00-d9359a5b275f",
   "metadata": {},
   "outputs": [],
   "source": [
    "import yaml\n",
    "\n",
    "# Load the YAML file containing the image paths and corresponding text\n",
    "with open(\"dict_slides_text.yml\", \"r\") as yaml_file:\n",
    "    slide_dict = yaml.safe_load(yaml_file)"
   ]
  },
  {
   "cell_type": "code",
   "execution_count": null,
   "id": "99cdd053-00de-480d-bb78-5d69fcd94af5",
   "metadata": {},
   "outputs": [],
   "source": [
    "from sentence_transformers import SentenceTransformer\n",
    "from sentence_transformers.util import cos_sim\n",
    "\n",
    "# Load the model\n",
    "model = SentenceTransformer(\"mixedbread-ai/mxbai-embed-large-v1\")"
   ]
  },
  {
   "cell_type": "code",
   "execution_count": null,
   "id": "795b0f18-2cce-45a1-988e-2ace9c78eb82",
   "metadata": {},
   "outputs": [],
   "source": [
    "import re\n",
    "\n",
    "page_data = []\n",
    "\n",
    "# Iterate over the dictionary\n",
    "for png_filename, text in slide_dict.items():\n",
    "    # Get the PDF name and slide number from the filename\n",
    "    pdf_name = png_filename.split('_slide')[0]\n",
    "    \n",
    "    slide_number = int(png_filename.split('_slide')[-1].split('.png')[0])\n",
    "    cleaned_png_name = re.sub(r\"^downloads/\", \"\", png_filename)    \n",
    "    # Get embedding\n",
    "    embedding = model.encode(text)\n",
    "\n",
    "    page_data.append({\n",
    "            'pdf_filename': f'{pdf_name}.pdf',\n",
    "            'page_index': slide_number,\n",
    "            'text': text,\n",
    "            'png_filename': cleaned_png_name,\n",
    "            'embedding': embedding\n",
    "    })\n"
   ]
  },
  {
   "cell_type": "code",
   "execution_count": null,
   "id": "84abc4a0-9923-4e16-b935-b9626afa4d00",
   "metadata": {},
   "outputs": [],
   "source": [
    "import pandas as pd\n",
    "\n",
    "df_all = pd.DataFrame(page_data)\n",
    "df_all"
   ]
  },
  {
   "cell_type": "markdown",
   "id": "8f3fbf7d-08fe-4622-b98d-807969c6cb84",
   "metadata": {},
   "source": [
    "## Perform Dimensionality Reduction by using UMAP"
   ]
  },
  {
   "cell_type": "code",
   "execution_count": null,
   "id": "bf3fc678-7671-4196-9ff2-8b8009da88fb",
   "metadata": {},
   "outputs": [],
   "source": [
    "import numpy as np\n",
    "import umap.umap_ as umap\n",
    "\n",
    "# Convert embedding vectors to numpy array for UMAP\n",
    "embeddings = np.array(df['embedding'].tolist())\n",
    "\n",
    "# Apply UMAP\n",
    "reducer = umap.UMAP(n_components=2, random_state=42)\n",
    "umap_embeddings = reducer.fit_transform(embeddings)\n",
    "\n",
    "df_all['UMAP0'] = umap_embeddings[:, 0]\n",
    "df_all['UMAP1'] = umap_embeddings[:, 1]\n",
    "\n",
    "df_all"
   ]
  },
  {
   "cell_type": "code",
   "execution_count": null,
   "id": "6bb5f155-a027-4a21-b03d-ed4460f506e4",
   "metadata": {},
   "outputs": [],
   "source": [
    "def get_all_images(df, images_folder=\"downloads/images\"):\n",
    "    images = []\n",
    "    for _, row in df.iterrows():\n",
    "        img_path =  img_path = os.path.join(images_folder, row['png_filename'])  # Access the correct row value\n",
    "        img = imread(img_path)  # Read the image\n",
    "        images.append(img)\n",
    "    return np.asarray(images)"
   ]
  },
  {
   "cell_type": "code",
   "execution_count": null,
   "id": "02e8b93c-9f7b-4a11-bc7b-2d8bfab141b8",
   "metadata": {},
   "outputs": [],
   "source": [
    "stackview.sliceplot(df_all, get_all_images(df), column_x=\"UMAP0\", column_y=\"UMAP1\", zoom_factor=1.5, zoom_spline_order=2)"
   ]
  }
 ],
 "metadata": {
  "kernelspec": {
   "display_name": "Python 3 (ipykernel)",
   "language": "python",
   "name": "python3"
  },
  "language_info": {
   "codemirror_mode": {
    "name": "ipython",
    "version": 3
   },
   "file_extension": ".py",
   "mimetype": "text/x-python",
   "name": "python",
   "nbconvert_exporter": "python",
   "pygments_lexer": "ipython3",
   "version": "3.10.12"
  }
 },
 "nbformat": 4,
 "nbformat_minor": 5
}
