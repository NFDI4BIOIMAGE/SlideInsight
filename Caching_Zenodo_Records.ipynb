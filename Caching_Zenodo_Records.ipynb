{
 "cells": [
  {
   "cell_type": "markdown",
   "id": "ec3bcad6-2656-42bb-ae8d-77f08c1d5144",
   "metadata": {},
   "source": [
    "### Caching the Embeddings for each Presentation Slide in our Training Material \n",
    "For each Zenodo Record in our Resources \"nfdi4bioimage.yml\" File, we can generate different embeddings (visual, text and mixed). \n",
    "Instead of Calculating it over and over again for different tasks, we can calculate the Embeddings once and store them somewhere (e.g. via Huggingface) to load them again at any time.\n",
    "For now, the Embeddings are stored as a Dataset on Huggingface."
   ]
  },
  {
   "cell_type": "code",
   "execution_count": 1,
   "id": "3f93ec02-58ff-4ad8-b63b-1b86b1833bdd",
   "metadata": {},
   "outputs": [],
   "source": [
    "from huggingface_hub import login\n",
    "import os\n",
    "\n",
    "#Authenticate your current session\n",
    "login(token=os.getenv(\"HUGGINGFACE_TOKEN\"))"
   ]
  },
  {
   "cell_type": "markdown",
   "id": "93eab5e8-a2c8-4210-8033-888fbab53a6a",
   "metadata": {},
   "source": [
    "1. Load all Zenodo Record IDs from our Training Material"
   ]
  },
  {
   "cell_type": "code",
   "execution_count": 8,
   "id": "5a3f8e4f-a0af-45ce-bf7f-edeb3055230a",
   "metadata": {},
   "outputs": [
    {
     "name": "stdout",
     "output_type": "stream",
     "text": [
      "File downloaded successfully as nfdi4bioimage.yml\n",
      "Found 38 Zenodo records: ['10008464', '10008465', '10083555', '10654775', '10679054', '10687658', '10793699', '10815329', '10816895', '10886749', '10939519', '10942559', '10970869', '10972692', '10990107', '11031746', '11066250', '11107798', '11265038', '11396199', '11472148', '11474407', '11548617', '12623730', '3778431', '4317149', '4328911', '4330625', '4334697', '4461261', '4630788', '4748510', '4748534', '4778265', '8323588', '8329305', '8329306', '8414318']\n"
     ]
    }
   ],
   "source": [
    "from caching import get_zenodo_ids_from_yaml\n",
    "import requests\n",
    "\n",
    "file_url = \"https://raw.githubusercontent.com/NFDI4BIOIMAGE/training/main/resources/nfdi4bioimage.yml\"\n",
    "yaml_file = \"nfdi4bioimage.yml\" \n",
    "response = requests.get(file_url)\n",
    "\n",
    "# Download the current Training Material yaml file from the Git Repository\n",
    "with open(yaml_file, \"wb\") as file:\n",
    "    file.write(response.content)\n",
    "print(f\"File downloaded successfully as {yaml_file}\")\n",
    "\n",
    "# Extract the Zenodo Record IDs\n",
    "zenodo_ids = get_zenodo_ids_from_yaml(yaml_file)\n",
    "print(f\"Found {len(zenodo_ids)} Zenodo records: {zenodo_ids}\")"
   ]
  },
  {
   "cell_type": "markdown",
   "id": "76d7a75b-da13-4fe1-a5ec-8ff916219692",
   "metadata": {},
   "source": [
    "2. Calculate and save all embeddings in a Huggingface Dataset"
   ]
  },
  {
   "cell_type": "code",
   "execution_count": 3,
   "id": "4762e2ce-1064-48c4-a81d-6472515588b7",
   "metadata": {},
   "outputs": [
    {
     "name": "stdout",
     "output_type": "stream",
     "text": [
      "Repository 'lea-33/SlightInsight_Cache_Zenodo' already exists.\n"
     ]
    },
    {
     "data": {
      "application/vnd.jupyter.widget-view+json": {
       "model_id": "e70b103b9cf946e1a88bdc594c076094",
       "version_major": 2,
       "version_minor": 0
      },
      "text/plain": [
       "README.md:   0%|          | 0.00/492 [00:00<?, ?B/s]"
      ]
     },
     "metadata": {},
     "output_type": "display_data"
    },
    {
     "data": {
      "application/vnd.jupyter.widget-view+json": {
       "model_id": "4f7bf32af6a549aebc24076acb956f48",
       "version_major": 2,
       "version_minor": 0
      },
      "text/plain": [
       "train-00000-of-00001.parquet:   0%|          | 0.00/6.78k [00:00<?, ?B/s]"
      ]
     },
     "metadata": {},
     "output_type": "display_data"
    },
    {
     "data": {
      "application/vnd.jupyter.widget-view+json": {
       "model_id": "0b31f0b07fb940d2a774d227625ca9fa",
       "version_major": 2,
       "version_minor": 0
      },
      "text/plain": [
       "Generating train split:   0%|          | 0/179 [00:00<?, ? examples/s]"
      ]
     },
     "metadata": {},
     "output_type": "display_data"
    },
    {
     "name": "stdout",
     "output_type": "stream",
     "text": [
      "Skipping Zenodo Record 10687658: Already in dataset.\n",
      "Repository 'lea-33/SlightInsight_Cache_Zenodo' already exists.\n"
     ]
    },
    {
     "data": {
      "application/vnd.jupyter.widget-view+json": {
       "model_id": "abfeaba1cb704095aebfb4969bb7395e",
       "version_major": 2,
       "version_minor": 0
      },
      "text/plain": [
       "Uploading the dataset shards:   0%|          | 0/1 [00:00<?, ?it/s]"
      ]
     },
     "metadata": {},
     "output_type": "display_data"
    },
    {
     "data": {
      "application/vnd.jupyter.widget-view+json": {
       "model_id": "5f8b55bbe9464244a073bbd919929041",
       "version_major": 2,
       "version_minor": 0
      },
      "text/plain": [
       "Creating parquet from Arrow format:   0%|          | 0/1 [00:00<?, ?ba/s]"
      ]
     },
     "metadata": {},
     "output_type": "display_data"
    },
    {
     "name": "stderr",
     "output_type": "stream",
     "text": [
      "No files have been modified since last commit. Skipping to prevent empty commit.\n"
     ]
    },
    {
     "name": "stdout",
     "output_type": "stream",
     "text": [
      "Finished processing Zenodo Record 10793699.\n",
      "Repository 'lea-33/SlightInsight_Cache_Zenodo' already exists.\n",
      "Skipping Zenodo Record 10815329: Already in dataset.\n"
     ]
    }
   ],
   "source": [
    "from caching import ensure_repo_exists, load_cache_dataset, append_rows_to_dataset, embed_text, embed_visual, embed_mixed, cache_hf\n",
    "from datasets import concatenate_datasets, load_dataset\n",
    "\n",
    "repo_name = \"lea-33/SlightInsight_Cache\"\n",
    "for record_id in zenodo_ids:\n",
    "    cache_hf(record_id, repo_name=repo_name)"
   ]
  },
  {
   "cell_type": "markdown",
   "id": "593a1600-b850-479e-8173-543e5f691738",
   "metadata": {},
   "source": [
    "3. Example on how to load the data again for a specific slide from a specific Record/Presentation"
   ]
  },
  {
   "cell_type": "code",
   "execution_count": 8,
   "id": "d59adb9a-2321-4347-8a64-1884d7a5b42f",
   "metadata": {},
   "outputs": [
    {
     "data": {
      "text/html": [
       "<div>\n",
       "<style scoped>\n",
       "    .dataframe tbody tr th:only-of-type {\n",
       "        vertical-align: middle;\n",
       "    }\n",
       "\n",
       "    .dataframe tbody tr th {\n",
       "        vertical-align: top;\n",
       "    }\n",
       "\n",
       "    .dataframe thead th {\n",
       "        text-align: right;\n",
       "    }\n",
       "</style>\n",
       "<table border=\"1\" class=\"dataframe\">\n",
       "  <thead>\n",
       "    <tr style=\"text-align: right;\">\n",
       "      <th></th>\n",
       "      <th>key</th>\n",
       "      <th>text</th>\n",
       "      <th>visual</th>\n",
       "      <th>mixed</th>\n",
       "      <th>zenodo_record_id</th>\n",
       "      <th>zenodo_filename</th>\n",
       "      <th>page_number</th>\n",
       "    </tr>\n",
       "  </thead>\n",
       "  <tbody>\n",
       "    <tr>\n",
       "      <th>0</th>\n",
       "      <td>record10008464_pdf1_slide3</td>\n",
       "      <td>2</td>\n",
       "      <td>2</td>\n",
       "      <td>2</td>\n",
       "      <td>10008464</td>\n",
       "      <td>2023-Moore-N4BI-AHM-Welcome.pdf</td>\n",
       "      <td>3</td>\n",
       "    </tr>\n",
       "  </tbody>\n",
       "</table>\n",
       "</div>"
      ],
      "text/plain": [
       "                          key  text  visual  mixed zenodo_record_id  \\\n",
       "0  record10008464_pdf1_slide3     2       2      2         10008464   \n",
       "\n",
       "                   zenodo_filename  page_number  \n",
       "0  2023-Moore-N4BI-AHM-Welcome.pdf            3  "
      ]
     },
     "execution_count": 8,
     "metadata": {},
     "output_type": "execute_result"
    }
   ],
   "source": [
    "from caching import load_hf_cache\n",
    "import pandas as pd\n",
    "\n",
    "cached_data = load_hf_cache(\"10008464\", 3, repo_name=repo_name)\n",
    "df = pd.DataFrame.from_dict([cached_data])\n",
    "\n",
    "df.head()"
   ]
  }
 ],
 "metadata": {
  "kernelspec": {
   "display_name": "Python 3 (ipykernel)",
   "language": "python",
   "name": "python3"
  },
  "language_info": {
   "codemirror_mode": {
    "name": "ipython",
    "version": 3
   },
   "file_extension": ".py",
   "mimetype": "text/x-python",
   "name": "python",
   "nbconvert_exporter": "python",
   "pygments_lexer": "ipython3",
   "version": "3.10.12"
  }
 },
 "nbformat": 4,
 "nbformat_minor": 5
}
